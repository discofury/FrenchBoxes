{
 "cells": [
  {
   "cell_type": "markdown",
   "metadata": {},
   "source": [
    "How many French boxes can you fit in an alcove?\n",
    "==========================\n",
    "\n",
    "This is an attempt to use a genetic algorithm to try and understand how many uniform sized French boxes you can fit in the alcove under my stairs"
   ]
  },
  {
   "cell_type": "code",
   "execution_count": 7,
   "metadata": {
    "collapsed": false
   },
   "outputs": [],
   "source": [
    "%matplotlib inline\n",
    "import matplotlib.pyplot as plt\n",
    "from random import randrange\n"
   ]
  },
  {
   "cell_type": "code",
   "execution_count": 31,
   "metadata": {
    "collapsed": true
   },
   "outputs": [],
   "source": [
    "# globals\n",
    "max_room_x = 250\n",
    "max_room_y = 210"
   ]
  },
  {
   "cell_type": "markdown",
   "metadata": {},
   "source": [
    "##Approach to coding this"
   ]
  },
  {
   "cell_type": "markdown",
   "metadata": {},
   "source": [
    "###Room object\n",
    "The room can do or knows the following:\n",
    "* What its dimensions are\n",
    "* To be able to draw itself (maybe, this might need to be controlled via the simulation itself)\n",
    "* To know what boxes are in it and where these boxes are\n",
    "* From the above, the room can also understand if a box clashes with another box, and whether the box is in or outside of the room. This property will form the basis of calculating fitness for each layout of boxes in the room.\n",
    "\n",
    "###Box object\n",
    "Each box can do or knows the following:\n",
    "* What its coordindates are\n",
    "* How to draw a box (maybe, this might need to controlled via the simulation itself)\n",
    "\n",
    "###Simulation aspect\n",
    "There will need to be some code that orchestrates everything: that is, generates a room, adds boxes, runs the GA code, and provides a scoring. \n",
    "\n",
    "###Note to self\n",
    "Do you need to go down the OO route? By looking at the Where's Waldo route, does the simulation need this additional level of structure?\n",
    "\n",
    "###Fitness calculations\n",
    "The fitness calculation should involve something like the following:\n",
    "* For each additional box in the room, add a positive increment\n",
    "* For each box clash, remove a certain amount\n",
    "* For each box that is not in the room, remove a certain amount\n",
    "\n",
    "###What does the Fitness calculation work on?\n",
    "Where should the boxes \"live\" in the simulation? Are they a property of the room? (\"Boxes exist in the room\"?) Theoretically, yes. \n",
    "\n",
    "But what does this mean to our model? This seems that the room needs to have an ability to store boxes in it. There does need to be a collection of boxes somewhere in the model, so that the simulation can assess if there are clashes or similar. \n",
    "\n",
    "###How will the Fitness calculation work?\n",
    "Imagine that we have a collection of boxes, box one, box two, ... box n. There would be a score associated with each collection, depending on a) how many boxes are in the collection, b) how many clash, and c) how many are in the room. \n",
    "\n",
    "Therefore a \"population\" here will be defined as a number of collections of boxes (I think). For example, generation one will be a population of say 100 box collections, so 100 scores. These can then be assessed for e.g. the top 10 scores. In turn, these 10 populations can mutate/similar so that the new generation of solutions is different. \n",
    "\n",
    "From a logic standpoint, it makes sense to do the calculations, then draw the results say after each 1/10 of complete simulation run time, e.g. if there are 10k iterations, plot the best result found so far about each 1k iterations. \n",
    "\n",
    "(Starting to think that the OO approach may be overblown. Ultimately there could be a cuter way to think about this, as I'm more interested in understanding clashes between boxes and those outside the room to a certain degree.)"
   ]
  },
  {
   "cell_type": "markdown",
   "metadata": {},
   "source": [
    "## Additional thoughts\n",
    "\n",
    "In theory, all you need to create is a bunch of starting positions for the boxes. So what is the bottom left coordinate of each box. Then the simulation needs to calculate the positions of the other coordinates, which is trival. From this, it is then a case of working out if each coordinate is in the room and whether it is clashing with another box.\n",
    "\n",
    "This could be mocked up by having a list of starting box coordinates, each coordinate in essence representing a box. For each box in the list, firstly work out if all of its points are in the room, and if not, decrement the score accordingly. It makes sense to do this via a collection of methods, i.e. for each box in room, test if it is in room, then update score accordingly. \n",
    "\n",
    "The next step would be more difficult, but could be done via a nested loop. For each box in the list, check every other box in the list: does the box overlap? If this is not done via OO, there would be a lot of methods to get this to work, but should be quite simple from a functional perspective. "
   ]
  },
  {
   "cell_type": "markdown",
   "metadata": {},
   "source": [
    "Draw the room\n",
    "-------------------------------"
   ]
  },
  {
   "cell_type": "code",
   "execution_count": 5,
   "metadata": {
    "collapsed": false
   },
   "outputs": [],
   "source": [
    "def get_box_coords(x, y):\n",
    "    \"\"\"\"\n",
    "        Returns the new box coords when given\n",
    "        starting x,y position\n",
    "    \"\"\"\n",
    "    \n",
    "    x_length = 50 # assumed constant\n",
    "    y_length = 40\n",
    "    \n",
    "    x_coords = [x, x + x_length, x + x_length, x, x]\n",
    "    y_coords = [y, y, y + y_length, y + y_length, y]\n",
    "    \n",
    "    results = (x_coords, y_coords)\n",
    "    return(results)"
   ]
  },
  {
   "cell_type": "code",
   "execution_count": 97,
   "metadata": {
    "collapsed": false
   },
   "outputs": [],
   "source": [
    "def draw_room():\n",
    "    \"\"\"\n",
    "       Draw the basic room, setting axes also\n",
    "    \"\"\"\n",
    "    \n",
    "    plt.plot([0, 195, 195, 152, 0, 0], \n",
    "         [0, 0, 223, 223, 104, 0])\n",
    "    plt.axis([-10, 210, -10, 250])\n",
    "    plt.xticks([])\n",
    "    plt.yticks([])\n",
    "    "
   ]
  },
  {
   "cell_type": "code",
   "execution_count": 98,
   "metadata": {
    "collapsed": true
   },
   "outputs": [],
   "source": [
    "def draw_box(box):\n",
    "    \"\"\"\n",
    "       Draw the box\n",
    "    \"\"\"\n",
    "    \n",
    "    plt.plot(box[0][0:5], \n",
    "             box[1][0:5])"
   ]
  },
  {
   "cell_type": "markdown",
   "metadata": {},
   "source": [
    "## An attempt to develop a recursive function\n",
    "Good luck everyone ..."
   ]
  },
  {
   "cell_type": "code",
   "execution_count": 137,
   "metadata": {
    "collapsed": false
   },
   "outputs": [],
   "source": [
    "def test_recursion(a):\n",
    "    if len(a) > 0 :\n",
    "        print(\"line is \", a[0])\n",
    "        random_starts(a[1:])\n",
    "        "
   ]
  },
  {
   "cell_type": "code",
   "execution_count": 138,
   "metadata": {
    "collapsed": false
   },
   "outputs": [
    {
     "name": "stdout",
     "output_type": "stream",
     "text": [
      "('line is ', 0)\n",
      "('line is ', 1)\n",
      "('line is ', 2)\n",
      "('line is ', 3)\n"
     ]
    }
   ],
   "source": [
    "test_recursion([0,1,2,3])"
   ]
  },
  {
   "cell_type": "markdown",
   "metadata": {},
   "source": [
    "Ok, that seems to have worked. Note the use of the condition saying greater than zero, not less than a condition as originally specified. "
   ]
  },
  {
   "cell_type": "code",
   "execution_count": 145,
   "metadata": {
    "collapsed": false
   },
   "outputs": [],
   "source": [
    "def random_coords(max_x, max_y):\n",
    "    \"\"\"\n",
    "       When supplied the max x,y of the room, supply a random start postion\n",
    "    \"\"\"\n",
    "    # x = rand # how do you do random numbers again?\n",
    "    \n",
    "    x,y = (10, 20)\n",
    "    return(x, y)\n"
   ]
  },
  {
   "cell_type": "code",
   "execution_count": 146,
   "metadata": {
    "collapsed": false
   },
   "outputs": [
    {
     "data": {
      "text/plain": [
       "(10, 20)"
      ]
     },
     "execution_count": 146,
     "metadata": {},
     "output_type": "execute_result"
    }
   ],
   "source": [
    "random_coords(210 - 50, 250 - 40)"
   ]
  },
  {
   "cell_type": "code",
   "execution_count": 150,
   "metadata": {
    "collapsed": false
   },
   "outputs": [
    {
     "data": {
      "image/png": "[encoded data removed]",
      "text/plain": [
       "<matplotlib.figure.Figure at 0x5932e90>"
      ]
     },
     "metadata": {},
     "output_type": "display_data"
    }
   ],
   "source": [
    "plt.figure()\n",
    "draw_room()\n",
    "coords = random_coords(210 - 50, 250 - 40)\n",
    "t = get_box_coords(coords[0], coords[1])\n",
    "draw_box(t)\n",
    "plt.show()"
   ]
  },
  {
   "cell_type": "markdown",
   "metadata": {},
   "source": [
    "##Build a box object"
   ]
  },
  {
   "cell_type": "code",
   "execution_count": 158,
   "metadata": {
    "collapsed": true
   },
   "outputs": [],
   "source": [
    "class Box:\n",
    "    \n",
    "    def __init__(self, x, y):\n",
    "        self.x = x\n",
    "        self.y = y\n",
    "        self.is_in_room = False\n",
    "        "
   ]
  },
  {
   "cell_type": "code",
   "execution_count": 159,
   "metadata": {
    "collapsed": false
   },
   "outputs": [],
   "source": [
    "b = Box(10, 20)"
   ]
  },
  {
   "cell_type": "code",
   "execution_count": 161,
   "metadata": {
    "collapsed": false
   },
   "outputs": [
    {
     "data": {
      "text/plain": [
       "10"
      ]
     },
     "execution_count": 161,
     "metadata": {},
     "output_type": "execute_result"
    }
   ],
   "source": [
    "b.x"
   ]
  },
  {
   "cell_type": "markdown",
   "metadata": {},
   "source": [
    "##Room object"
   ]
  },
  {
   "cell_type": "code",
   "execution_count": 49,
   "metadata": {
    "collapsed": true
   },
   "outputs": [],
   "source": [
    "class Room:\n",
    "    \n",
    "    def __init__(self, width, height):\n",
    "        self.width = width\n",
    "        self.height = height\n",
    "    \n",
    "    def draw_room():\n",
    "        \"\"\"\n",
    "           Draw the basic room, setting axes also\n",
    "        \"\"\"\n",
    "    \n",
    "        plt.plot([0, 195, 195, 152, 0, 0], \n",
    "                 [0, 0, 223, 223, 104, 0])\n",
    "        plt.axis([-10, 210, -10, 250])\n",
    "        plt.xticks([])\n",
    "        plt.yticks([])\n",
    "    "
   ]
  },
  {
   "cell_type": "code",
   "execution_count": 51,
   "metadata": {
    "collapsed": false
   },
   "outputs": [
    {
     "ename": "TypeError",
     "evalue": "draw_room() takes no arguments (1 given)",
     "output_type": "error",
     "traceback": [
      "\u001b[1;31m---------------------------------------------------------------------------\u001b[0m",
      "\u001b[1;31mTypeError\u001b[0m                                 Traceback (most recent call last)",
      "\u001b[1;32m<ipython-input-51-b00a85d17e4d>\u001b[0m in \u001b[0;36m<module>\u001b[1;34m()\u001b[0m\n\u001b[0;32m      2\u001b[0m \u001b[1;33m\u001b[0m\u001b[0m\n\u001b[0;32m      3\u001b[0m \u001b[0mplt\u001b[0m\u001b[1;33m.\u001b[0m\u001b[0mfigure\u001b[0m\u001b[1;33m(\u001b[0m\u001b[1;33m)\u001b[0m\u001b[1;33m\u001b[0m\u001b[0m\n\u001b[1;32m----> 4\u001b[1;33m \u001b[0mr\u001b[0m\u001b[1;33m.\u001b[0m\u001b[0mdraw_room\u001b[0m\u001b[1;33m(\u001b[0m\u001b[1;33m)\u001b[0m\u001b[1;33m\u001b[0m\u001b[0m\n\u001b[0m\u001b[0;32m      5\u001b[0m \u001b[0mplt\u001b[0m\u001b[1;33m.\u001b[0m\u001b[0mshow\u001b[0m\u001b[1;33m(\u001b[0m\u001b[1;33m)\u001b[0m\u001b[1;33m\u001b[0m\u001b[0m\n",
      "\u001b[1;31mTypeError\u001b[0m: draw_room() takes no arguments (1 given)"
     ]
    },
    {
     "data": {
      "text/plain": [
       "<matplotlib.figure.Figure at 0x2a22290>"
      ]
     },
     "metadata": {},
     "output_type": "display_data"
    }
   ],
   "source": [
    "r = Room(250, 210)\n",
    "\n",
    "plt.figure()\n",
    "r.draw_room()\n",
    "plt.show()"
   ]
  },
  {
   "cell_type": "markdown",
   "metadata": {},
   "source": [
    "#Start from scratch"
   ]
  },
  {
   "cell_type": "code",
   "execution_count": 9,
   "metadata": {
    "collapsed": false
   },
   "outputs": [],
   "source": [
    "def getRandomBoxCoords(max_x, max_y):\n",
    "    \"\"\"\n",
    "       Create random start coordinates for bottom left of box\n",
    "       (x,y) are the max size of room\n",
    "    \"\"\"\n",
    "    x = randrange(0, max_x)\n",
    "    y = randrange(0, max_y)\n",
    "    return(x,y)"
   ]
  },
  {
   "cell_type": "code",
   "execution_count": 17,
   "metadata": {
    "collapsed": false
   },
   "outputs": [
    {
     "data": {
      "text/plain": [
       "(181, 118)"
      ]
     },
     "execution_count": 17,
     "metadata": {},
     "output_type": "execute_result"
    }
   ],
   "source": [
    "getRandomBoxCoords(210, 250)"
   ]
  },
  {
   "cell_type": "code",
   "execution_count": 18,
   "metadata": {
    "collapsed": true
   },
   "outputs": [],
   "source": [
    "def getBoxRightCoord(x):\n",
    "    \"\"\"\n",
    "       Given an x coordinate, the left hand side of the box, what is the right hand x coordinate?\n",
    "    \"\"\"\n",
    "    return (x + 50)"
   ]
  },
  {
   "cell_type": "code",
   "execution_count": 19,
   "metadata": {
    "collapsed": false
   },
   "outputs": [
    {
     "data": {
      "text/plain": [
       "100"
      ]
     },
     "execution_count": 19,
     "metadata": {},
     "output_type": "execute_result"
    }
   ],
   "source": [
    "getBoxRightCoord(50)"
   ]
  },
  {
   "cell_type": "code",
   "execution_count": 24,
   "metadata": {
    "collapsed": true
   },
   "outputs": [],
   "source": [
    "def getBoxTopCoord(y):\n",
    "    \"\"\"\n",
    "       Given a y coordinate, the bottom vertical of the box, what is the top y coordinate?\n",
    "    \"\"\"\n",
    "    return (y + 40);"
   ]
  },
  {
   "cell_type": "code",
   "execution_count": 25,
   "metadata": {
    "collapsed": false
   },
   "outputs": [
    {
     "data": {
      "text/plain": [
       "80"
      ]
     },
     "execution_count": 25,
     "metadata": {},
     "output_type": "execute_result"
    }
   ],
   "source": [
    "getBoxTopCoord(40)"
   ]
  },
  {
   "cell_type": "code",
   "execution_count": 33,
   "metadata": {
    "collapsed": false
   },
   "outputs": [
    {
     "name": "stdout",
     "output_type": "stream",
     "text": [
      "('b is: ', (87, 17))\n",
      "('bRightX is: ', 137)\n",
      "('bUpperY is: ', 57)\n"
     ]
    }
   ],
   "source": [
    "b = getRandomBoxCoords(max_room_x, max_room_y)\n",
    "print(\"b is: \", b)\n",
    "\n",
    "bRightX = getBoxRightCoord(b[0])\n",
    "print(\"bRightX is: \", bRightX)\n",
    "\n",
    "bUpperY = getBoxTopCoord(b[1])\n",
    "print(\"bUpperY is: \", bUpperY)"
   ]
  },
  {
   "cell_type": "code",
   "execution_count": 47,
   "metadata": {
    "collapsed": false
   },
   "outputs": [],
   "source": [
    "def isBoxInRoom(box_coord, max_room_condition):\n",
    "    \"\"\"\n",
    "       Calculate whether the box coordinate is inside the limit of the room, which is supplied\n",
    "    \"\"\"\n",
    "    \n",
    "    result = False\n",
    "    if (box_coord > 0 and box_coord < max_room_condition):\n",
    "        result = True\n",
    "    return(result)\n",
    "        "
   ]
  },
  {
   "cell_type": "code",
   "execution_count": 48,
   "metadata": {
    "collapsed": false
   },
   "outputs": [
    {
     "name": "stdout",
     "output_type": "stream",
     "text": [
      "True\n",
      "False\n"
     ]
    }
   ],
   "source": [
    "print(isBoxInRoom(100, max_room_x))\n",
    "print(isBoxInRoom(300, max_room_y))"
   ]
  },
  {
   "cell_type": "markdown",
   "metadata": {},
   "source": [
    "##Start yet again"
   ]
  },
  {
   "cell_type": "code",
   "execution_count": 53,
   "metadata": {
    "collapsed": true
   },
   "outputs": [],
   "source": [
    "# create a room object, with \n",
    "   # basic dimensions\n",
    "   # list to store boxes\n",
    "   # method to work out if boxes are in the room\n",
    "   # method to work out if boxes clash"
   ]
  },
  {
   "cell_type": "code",
   "execution_count": null,
   "metadata": {
    "collapsed": true
   },
   "outputs": [],
   "source": [
    "# create a box object, with methods to:\n",
    "   # calculate all coords of box when provided a single coord. "
   ]
  }
 ],
 "metadata": {
  "kernelspec": {
   "display_name": "Python 2",
   "language": "python",
   "name": "python2"
  },
  "language_info": {
   "codemirror_mode": {
    "name": "ipython",
    "version": 2
   },
   "file_extension": ".py",
   "mimetype": "text/x-python",
   "name": "python",
   "nbconvert_exporter": "python",
   "pygments_lexer": "ipython2",
   "version": "2.7.3"
  }
 },
 "nbformat": 4,
 "nbformat_minor": 0
}
